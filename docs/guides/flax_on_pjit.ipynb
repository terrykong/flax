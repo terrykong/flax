{
 "cells": [
  {
   "cell_type": "markdown",
   "metadata": {
    "id": "2a9f78765c0c"
   },
   "source": [
    "# Scale up Flax Modules on multiple devices\n",
    "\n",
    "This guide shows how to scale up [Flax Modules](https://flax.readthedocs.io/en/latest/developer_notes/module_lifecycle.html) on multiple devices and hosts using [`jax.jit`](https://jax.readthedocs.io/en/latest/jax-101/02-jitting.html) (formerly [`experimental.pjit`](https://jax.readthedocs.io/en/latest/jax.experimental.pjit.html#module-jax.experimental.pjit)) and [`flax.linen`](https://flax.readthedocs.io/en/latest/api_reference/flax.linen/index.html)."
   ]
  },
  {
   "attachments": {},
   "cell_type": "markdown",
   "metadata": {
    "id": "b1e0e5fc8bc1"
   },
   "source": [
    "## Flax and `jax.jit` scaled up\n",
    "\n",
    "[`jax.jit`](https://jax.readthedocs.io/en/latest/_autosummary/jax.jit.html) follows the [Single Program Multi Data (SPMD)](https://jax.readthedocs.io/en/latest/glossary.html#term-SPMD) paradigm and automatically compiles your code to run it on multiple devices. You need to only specify how you want the input and output of your code to be partitioned, and the compiler will figure out how to: 1) partition everything inside; and 2) compile inter-device communications.\n",
    "\n",
    "Flax provides several functionalities that can help you use auto-SPMD on [Flax Modules](https://flax.readthedocs.io/en/latest/developer_notes/module_lifecycle.html), including:\n",
    "\n",
    "1. An interface to specify partitions of your data when defining [`flax.linen.Module`](https://flax.readthedocs.io/en/latest/api_reference/flax.linen/module.html).\n",
    "2. Utility functions to generate the sharding information that `jax.jit` requires to run.\n",
    "3. An interface to customize your axis names called \"logical axis annotations\" to decouple both your Module code and partition plan to experiment with different partition layouts more easily.\n",
    "\n",
    "You can learn more about `jax.jit` APIs for scaling up in [JAX in multi-process environments](https://jax.readthedocs.io/en/latest/multi_process.html) and [Distributed arrays and automatic parallelization](https://jax.readthedocs.io/en/latest/notebooks/Distributed_arrays_and_automatic_parallelization.html) on JAX's documentation site."
   ]
  },
  {
   "attachments": {},
   "cell_type": "markdown",
   "metadata": {
    "id": "a9601432b448"
   },
   "source": [
    "## Setup\n",
    "\n",
    "Import some necessary dependencies.\n",
    "\n",
    "**Note:** This guide uses the `--xla_force_host_platform_device_count=8` flag to emulate multiple devices in a CPU environment in a Google Colab/Jupyter Notebook. You don't need this if you are already using a multi-device TPU environment."
   ]
  },
  {
   "cell_type": "code",
   "execution_count": 1,
   "metadata": {
    "id": "867203db3bef",
    "tags": [
     "skip-execution"
    ]
   },
   "outputs": [],
   "source": [
    "# Once Flax v0.6.10 is released, there is no need to do this.\n",
    "# ! pip3 install -qq \"git+https://github.com/google/flax.git@main#egg=flax\""
   ]
  },
  {
   "cell_type": "code",
   "execution_count": 2,
   "metadata": {
    "id": "f8f42d1174e5"
   },
   "outputs": [],
   "source": [
    "import os\n",
    "os.environ[\"XLA_FLAGS\"] = '--xla_force_host_platform_device_count=8'"
   ]
  },
  {
   "cell_type": "code",
   "execution_count": 42,
   "metadata": {
    "id": "b8da40732f0b"
   },
   "outputs": [],
   "source": [
    "import functools\n",
    "from typing import Optional, Callable\n",
    "\n",
    "import numpy as np\n",
    "import jax\n",
    "from jax import lax, random, numpy as jnp\n",
    "\n",
    "import flax\n",
    "from flax import struct, traverse_util, linen as nn\n",
    "from flax.core import freeze, unfreeze\n",
    "from flax.training import train_state, checkpoints\n",
    "\n",
    "import optax # Optax for common losses and optimizers. "
   ]
  },
  {
   "cell_type": "code",
   "execution_count": 4,
   "metadata": {
    "id": "bcc30de1d6eb"
   },
   "outputs": [
    {
     "name": "stdout",
     "output_type": "stream",
     "text": [
      "We have 8 fake JAX devices now: [CpuDevice(id=0), CpuDevice(id=1), CpuDevice(id=2), CpuDevice(id=3), CpuDevice(id=4), CpuDevice(id=5), CpuDevice(id=6), CpuDevice(id=7)]\n"
     ]
    }
   ],
   "source": [
    "print(f'We have 8 fake JAX devices now: {jax.devices()}')"
   ]
  },
  {
   "attachments": {},
   "cell_type": "markdown",
   "metadata": {
    "id": "c0d280def897"
   },
   "source": [
    "The code below shows how to import and set up the JAX-level device API, following JAX's [Distributed arrays and automatic parallelization](https://jax.readthedocs.io/en/latest/notebooks/Distributed_arrays_and_automatic_parallelization.html) guide:\n",
    "\n",
    "1. Start a 2x4 device `mesh` (8 devices) using JAX's `mesh_utils.create_device_mesh`. This layout is the same as the one of a [TPU v3-8](https://cloud.google.com/tpu/docs/system-architecture-tpu-vm#single_tpu_board).\n",
    "\n",
    "2. Annotate each axis with a name using the `axis_names` parameter in `jax.sharding.Mesh`. A typical way to annotate axis names is `axis_name=('data', 'model')`, where:\n",
    "  * `'data'`: the mesh dimension used for data-parallel sharding of the batch dimension of inputs and activations.\n",
    "  * `'model'`: the mesh dimension used for sharding parameters of the model across devices.\n",
    "  \n",
    "3. Make a simple utility function `mesh_sharding` for generating a sharding object from the mesh and any layout."
   ]
  },
  {
   "cell_type": "code",
   "execution_count": 5,
   "metadata": {
    "id": "684fe9fe13a0"
   },
   "outputs": [],
   "source": [
    "from jax.sharding import Mesh, PartitionSpec, NamedSharding\n",
    "from jax.lax import with_sharding_constraint\n",
    "from jax.experimental import mesh_utils"
   ]
  },
  {
   "cell_type": "code",
   "execution_count": 6,
   "metadata": {
    "id": "4589d7a6d4bb"
   },
   "outputs": [
    {
     "name": "stdout",
     "output_type": "stream",
     "text": [
      "[[CpuDevice(id=0) CpuDevice(id=1) CpuDevice(id=2) CpuDevice(id=3)]\n",
      " [CpuDevice(id=4) CpuDevice(id=5) CpuDevice(id=6) CpuDevice(id=7)]]\n",
      "Mesh(device_ids=array([[0, 1, 2, 3],\n",
      "       [4, 5, 6, 7]]), axis_names=('data', 'model'))\n"
     ]
    }
   ],
   "source": [
    "# Create a mesh and annotate each axis with a name.\n",
    "device_mesh = mesh_utils.create_device_mesh((2, 4))\n",
    "print(device_mesh)\n",
    "\n",
    "mesh = Mesh(devices=device_mesh, axis_names=('data', 'model'))\n",
    "print(mesh)\n",
    "\n",
    "def mesh_sharding(pspec: PartitionSpec) -> NamedSharding:\n",
    "  return NamedSharding(mesh, pspec)"
   ]
  },
  {
   "attachments": {},
   "cell_type": "markdown",
   "metadata": {
    "id": "307d39db6d94"
   },
   "source": [
    "## Define a layer\n",
    "\n",
    "Before defining a simple model, create an example layer called `DotReluDot` (by subclassing `flax.linen.Module`). The layer creates two parameters `W1` and `W2` for dot product multiplication, and uses the `jax.nn.relu` (ReLU) activation function in-between.\n",
    "\n",
    "To shard the parameters efficiently, apply the following APIs to annotate the parameters and intermediate variables:\n",
    "\n",
    "1. Use [`flax.linen.with_partitioning`](https://flax.readthedocs.io/en/latest/api_reference/_autosummary/flax.linen.with_partitioning.html#flax.linen.with_partitioning) to decorate the initializer function when creating sub-layers or raw parameters.\n",
    "\n",
    "2. Apply [`jax.lax.with_sharding_constraint`](https://github.com/google/jax/blob/main/jax/_src/pjit.py#L1516) (formerly, `pjit.with_sharding_constraint`) to annotate intermediate variables like `y` and `z` to force a particular sharding pattern when the ideal constraint is known.\n",
    "\n",
    "  * This step is optional, but can sometimes help auto-SPMD to partition efficiently. In the example below, the call is not required, because XLA will figure out the same sharding layout for `y` and `z` regardless."
   ]
  },
  {
   "cell_type": "code",
   "execution_count": 43,
   "metadata": {
    "id": "b74c049968dc"
   },
   "outputs": [],
   "source": [
    "class DotReluDot(nn.Module):\n",
    "  depth: int\n",
    "  dense_init: Callable = nn.initializers.xavier_normal()\n",
    "  @nn.compact\n",
    "  def __call__(self, x):\n",
    "    \n",
    "    y = nn.Dense(self.depth, \n",
    "                 kernel_init=nn.with_partitioning(self.dense_init, (None, 'model')),\n",
    "                 use_bias=False,  # or overwrite with `bias_init`\n",
    "                 )(x)\n",
    "\n",
    "    y = jax.nn.relu(y)\n",
    "    # Force a local sharding annotation.\n",
    "    y = with_sharding_constraint(y, mesh_sharding(PartitionSpec('data', 'model')))\n",
    "\n",
    "    W2 = self.param(\n",
    "        'W2', \n",
    "        nn.with_partitioning(self.dense_init, ('model', None)),\n",
    "        (self.depth, x.shape[-1]))\n",
    "    \n",
    "    z = jnp.dot(y, W2)\n",
    "    # Force a local sharding annotation.\n",
    "    z = with_sharding_constraint(z, mesh_sharding(PartitionSpec('data', None)))\n",
    "\n",
    "    # Return a tuple to conform with the API `flax.linen.scan` as shown in the cell below.\n",
    "    return z, None"
   ]
  },
  {
   "attachments": {},
   "cell_type": "markdown",
   "metadata": {
    "id": "cbac5321c08e"
   },
   "source": [
    "Note that device axis names like `'data'`, `'model'` or `None` are passed into both [`flax.linen.with_partitioning`](https://flax.readthedocs.io/en/latest/api_reference/_autosummary/flax.linen.with_partitioning.html) and [`jax.lax.with_sharding_constraint`](https://github.com/google/jax/blob/main/jax/_src/pjit.py#L1516) API calls. This refers to how each dimension of this data should be sharded — either across one of the device mesh dimensions, or not sharded at all.\n",
    "\n",
    "For example:\n",
    "\n",
    "* When you define `W1` with shape `(x.shape[-1], self.depth)` and annotate as `(None, 'model')`:\n",
    "\n",
    "  * The first dimension (of length `x.shape[-1]`) will be replicated across all devices.\n",
    "  * The second dimension (of length `self.depth`) will be sharded over the `'model'` axis of the device mesh. This means `W1` will be sharded 4-way on devices `(0, 4)`, `(1, 5)`, `(2, 6)` and `(3, 7)`, on this dimension.\n",
    "\n",
    "* When you annotate the output `z` as `('data', None)`:\n",
    "\n",
    "  * The first dimension — the batch dimension — will be sharded over the `'data'` axis. This means half of the batch will be processed on devices `0-3` (first four devices), and another half on devices `4-7` (the remaining four devices).\n",
    "  * The second dimension — the data depth dimension — will be replicated across all devices."
   ]
  },
  {
   "attachments": {},
   "cell_type": "markdown",
   "metadata": {
    "id": "b8389c11af79"
   },
   "source": [
    "## Define a model with `flax.linen.scan` lifted transformation\n",
    "\n",
    "Having created `DotReluDot`, you can now define the `MLP` model (by subclassing [`flax.linen.Module`](https://flax.readthedocs.io/en/latest/api_reference/flax.linen/module.html#flax.linen.Module)) as multiple layers of `DotReluDot`.\n",
    "\n",
    "To replicate identical layers, you can either use [`flax.linen.scan`](https://flax.readthedocs.io/en/latest/api_reference/_autosummary/flax.linen.scan.html), or a for-loop:\n",
    "\n",
    "* `flax.linen.scan` can provide faster compilation times.\n",
    "* The for-loop can be faster on runtime.\n",
    "\n",
    "The code below shows how to apply both methods, and default with the for-loop, so that all the parameters are two-dimensional and you can visualize their sharding. \n",
    "\n",
    "The `flax.linen.scan` code is just to show that this API works with [Flax lifted transforms](https://flax.readthedocs.io/en/latest/developer_notes/lift.html#supported-transformations)."
   ]
  },
  {
   "cell_type": "code",
   "execution_count": 44,
   "metadata": {
    "id": "a0ea0dcccbc3"
   },
   "outputs": [],
   "source": [
    "class MLP(nn.Module):\n",
    "  num_layers: int\n",
    "  depth: int\n",
    "  use_scan: bool\n",
    "  @nn.compact\n",
    "  def __call__(self, x):\n",
    "    if self.use_scan:\n",
    "      x, _ = nn.scan(DotReluDot, length=self.num_layers, \n",
    "                     variable_axes={\"params\": 0},\n",
    "                     split_rngs={\"params\": True},\n",
    "                     metadata_params={nn.PARTITION_NAME: None}\n",
    "                     )(self.depth)(x)\n",
    "    else:\n",
    "      for i in range(self.num_layers):\n",
    "        x, _ = DotReluDot(self.depth)(x)\n",
    "    return x"
   ]
  },
  {
   "attachments": {},
   "cell_type": "markdown",
   "metadata": {
    "id": "44395b62561d"
   },
   "source": [
    "Now, create a `model` instance, and a sample input `x`."
   ]
  },
  {
   "cell_type": "code",
   "execution_count": 45,
   "metadata": {
    "id": "5686299b4839"
   },
   "outputs": [],
   "source": [
    "# MLP hyperparameters.\n",
    "BATCH, LAYERS, DEPTH, USE_SCAN = 8, 4, 1024, False\n",
    "# Create fake inputs.\n",
    "x = jnp.ones((BATCH, DEPTH))\n",
    "# Initialize a PRNG key.\n",
    "k = random.PRNGKey(0)\n",
    "\n",
    "# Create an Optax optimizer.\n",
    "optimizer = optax.adam(learning_rate=0.001)\n",
    "# Instantiate the model.\n",
    "model = MLP(LAYERS, DEPTH, USE_SCAN)"
   ]
  },
  {
   "attachments": {},
   "cell_type": "markdown",
   "metadata": {
    "id": "5b3abfef359d"
   },
   "source": [
    "## Specify sharding\n",
    "\n",
    "Next, you need to tell `jax.jit` how to shard our data across devices.\n",
    "\n",
    "### The input's sharding\n",
    "\n",
    "For data parallelism, you can shard the batched _input_ `x` across the `data` axis by denoting the batch axis as `'data'`. Then, use [`jax.device_put`](https://jax.readthedocs.io/en/latest/_autosummary/jax.device_put.html) to place it onto the correct `device`s."
   ]
  },
  {
   "cell_type": "code",
   "execution_count": 46,
   "metadata": {
    "id": "8b913a2e57d3"
   },
   "outputs": [
    {
     "data": {
      "text/html": [
       "<pre style=\"white-space:pre;overflow-x:auto;line-height:normal;font-family:Menlo,'DejaVu Sans Mono',consolas,'Courier New',monospace\">┌──────────────────────────────────────────────────────────────────────────────┐\n",
       "│                                                                              │\n",
       "│                                 CPU <span style=\"color: #008080; text-decoration-color: #008080; font-weight: bold\">0</span>,<span style=\"color: #008080; text-decoration-color: #008080; font-weight: bold\">1</span>,<span style=\"color: #008080; text-decoration-color: #008080; font-weight: bold\">2</span>,<span style=\"color: #008080; text-decoration-color: #008080; font-weight: bold\">3</span>                                  │\n",
       "│                                                                              │\n",
       "│                                                                              │\n",
       "├──────────────────────────────────────────────────────────────────────────────┤\n",
       "│                                                                              │\n",
       "│                                 CPU <span style=\"color: #008080; text-decoration-color: #008080; font-weight: bold\">4</span>,<span style=\"color: #008080; text-decoration-color: #008080; font-weight: bold\">5</span>,<span style=\"color: #008080; text-decoration-color: #008080; font-weight: bold\">6</span>,<span style=\"color: #008080; text-decoration-color: #008080; font-weight: bold\">7</span>                                  │\n",
       "│                                                                              │\n",
       "│                                                                              │\n",
       "└──────────────────────────────────────────────────────────────────────────────┘\n",
       "</pre>\n"
      ],
      "text/plain": [
       "┌──────────────────────────────────────────────────────────────────────────────┐\n",
       "│                                                                              │\n",
       "│                                 CPU \u001b[1;36m0\u001b[0m,\u001b[1;36m1\u001b[0m,\u001b[1;36m2\u001b[0m,\u001b[1;36m3\u001b[0m                                  │\n",
       "│                                                                              │\n",
       "│                                                                              │\n",
       "├──────────────────────────────────────────────────────────────────────────────┤\n",
       "│                                                                              │\n",
       "│                                 CPU \u001b[1;36m4\u001b[0m,\u001b[1;36m5\u001b[0m,\u001b[1;36m6\u001b[0m,\u001b[1;36m7\u001b[0m                                  │\n",
       "│                                                                              │\n",
       "│                                                                              │\n",
       "└──────────────────────────────────────────────────────────────────────────────┘\n"
      ]
     },
     "metadata": {},
     "output_type": "display_data"
    }
   ],
   "source": [
    "x_sharding = mesh_sharding(PartitionSpec('data', None)) # dimensions: (batch, length)\n",
    "x = jax.device_put(x, x_sharding)\n",
    "jax.debug.visualize_array_sharding(x)"
   ]
  },
  {
   "attachments": {},
   "cell_type": "markdown",
   "metadata": {
    "id": "06d134795ae1"
   },
   "source": [
    "### The output's sharding\n",
    "\n",
    "You need to compile `model.init()` (that is, [`flax.linen.Module.init()`](https://flax.readthedocs.io/en/latest/api_reference/flax.linen/module.html#flax.linen.Module.init)), and its output as a pytree of parameters. Additionally, you may sometimes need wrap it with a [`flax.training.train_state`](https://flax.readthedocs.io/en/latest/api_reference/flax.training.html#flax.training.train_state.TrainState) to track other variables, such as optimizer states, and that would make the output an even more complex pytree.\n",
    "\n",
    "To achieve this, luckily, you don't have to hardcode the output's sharding by hand. Instead, you can:\n",
    "\n",
    "1. Evaluate `model.init` (in this case, a wrapper of it) abstractly using [`jax.eval_shape`](https://jax.readthedocs.io/en/latest/_autosummary/jax.eval_shape.html).\n",
    "\n",
    "1. Use [`flax.linen.get_sharding`](https://flax.readthedocs.io/en/latest/api_reference/_autosummary/flax.linen.get_sharding.html) to automatically generate the `jax.sharding.NamedSharding`.\n",
    "   * This step utilizes the [`flax.linen.with_partitioning`](https://flax.readthedocs.io/en/latest/api_reference/_autosummary/flax.linen.with_partitioning.html) annotations in the earlier definition to generate the correct sharding for the parameters."
   ]
  },
  {
   "cell_type": "code",
   "execution_count": 47,
   "metadata": {
    "id": "19094ec63385"
   },
   "outputs": [],
   "source": [
    "def init_fn(k, x, model, optimizer):\n",
    "  variables = model.init(k, x) # Initialize the model.\n",
    "  state = train_state.TrainState.create( # Create a `TrainState`.\n",
    "    apply_fn=model.apply,\n",
    "    params=variables['params'],\n",
    "    tx=optimizer)\n",
    "  return state"
   ]
  },
  {
   "cell_type": "code",
   "execution_count": 48,
   "metadata": {
    "id": "e49264a3c78e"
   },
   "outputs": [
    {
     "data": {
      "text/plain": [
       "TrainState(step=NamedSharding(mesh={'data': 2, 'model': 4}, spec=PartitionSpec()), apply_fn=<bound method Module.apply of MLP(\n",
       "    # attributes\n",
       "    num_layers = 4\n",
       "    depth = 1024\n",
       "    use_scan = False\n",
       ")>, params=FrozenDict({\n",
       "    DotReluDot_0: {\n",
       "        Dense_0: {\n",
       "            kernel: NamedSharding(mesh={'data': 2, 'model': 4}, spec=PartitionSpec(None, 'model')),\n",
       "        },\n",
       "        W2: NamedSharding(mesh={'data': 2, 'model': 4}, spec=PartitionSpec('model', None)),\n",
       "    },\n",
       "    DotReluDot_1: {\n",
       "        Dense_0: {\n",
       "            kernel: NamedSharding(mesh={'data': 2, 'model': 4}, spec=PartitionSpec(None, 'model')),\n",
       "        },\n",
       "        W2: NamedSharding(mesh={'data': 2, 'model': 4}, spec=PartitionSpec('model', None)),\n",
       "    },\n",
       "    DotReluDot_2: {\n",
       "        Dense_0: {\n",
       "            kernel: NamedSharding(mesh={'data': 2, 'model': 4}, spec=PartitionSpec(None, 'model')),\n",
       "        },\n",
       "        W2: NamedSharding(mesh={'data': 2, 'model': 4}, spec=PartitionSpec('model', None)),\n",
       "    },\n",
       "    DotReluDot_3: {\n",
       "        Dense_0: {\n",
       "            kernel: NamedSharding(mesh={'data': 2, 'model': 4}, spec=PartitionSpec(None, 'model')),\n",
       "        },\n",
       "        W2: NamedSharding(mesh={'data': 2, 'model': 4}, spec=PartitionSpec('model', None)),\n",
       "    },\n",
       "}), tx=GradientTransformation(init=<function chain.<locals>.init_fn at 0x140ac9e50>, update=<function chain.<locals>.update_fn at 0x140adb3a0>), opt_state=(ScaleByAdamState(count=NamedSharding(mesh={'data': 2, 'model': 4}, spec=PartitionSpec()), mu=FrozenDict({\n",
       "    DotReluDot_0: {\n",
       "        Dense_0: {\n",
       "            kernel: NamedSharding(mesh={'data': 2, 'model': 4}, spec=PartitionSpec(None, 'model')),\n",
       "        },\n",
       "        W2: NamedSharding(mesh={'data': 2, 'model': 4}, spec=PartitionSpec('model', None)),\n",
       "    },\n",
       "    DotReluDot_1: {\n",
       "        Dense_0: {\n",
       "            kernel: NamedSharding(mesh={'data': 2, 'model': 4}, spec=PartitionSpec(None, 'model')),\n",
       "        },\n",
       "        W2: NamedSharding(mesh={'data': 2, 'model': 4}, spec=PartitionSpec('model', None)),\n",
       "    },\n",
       "    DotReluDot_2: {\n",
       "        Dense_0: {\n",
       "            kernel: NamedSharding(mesh={'data': 2, 'model': 4}, spec=PartitionSpec(None, 'model')),\n",
       "        },\n",
       "        W2: NamedSharding(mesh={'data': 2, 'model': 4}, spec=PartitionSpec('model', None)),\n",
       "    },\n",
       "    DotReluDot_3: {\n",
       "        Dense_0: {\n",
       "            kernel: NamedSharding(mesh={'data': 2, 'model': 4}, spec=PartitionSpec(None, 'model')),\n",
       "        },\n",
       "        W2: NamedSharding(mesh={'data': 2, 'model': 4}, spec=PartitionSpec('model', None)),\n",
       "    },\n",
       "}), nu=FrozenDict({\n",
       "    DotReluDot_0: {\n",
       "        Dense_0: {\n",
       "            kernel: NamedSharding(mesh={'data': 2, 'model': 4}, spec=PartitionSpec(None, 'model')),\n",
       "        },\n",
       "        W2: NamedSharding(mesh={'data': 2, 'model': 4}, spec=PartitionSpec('model', None)),\n",
       "    },\n",
       "    DotReluDot_1: {\n",
       "        Dense_0: {\n",
       "            kernel: NamedSharding(mesh={'data': 2, 'model': 4}, spec=PartitionSpec(None, 'model')),\n",
       "        },\n",
       "        W2: NamedSharding(mesh={'data': 2, 'model': 4}, spec=PartitionSpec('model', None)),\n",
       "    },\n",
       "    DotReluDot_2: {\n",
       "        Dense_0: {\n",
       "            kernel: NamedSharding(mesh={'data': 2, 'model': 4}, spec=PartitionSpec(None, 'model')),\n",
       "        },\n",
       "        W2: NamedSharding(mesh={'data': 2, 'model': 4}, spec=PartitionSpec('model', None)),\n",
       "    },\n",
       "    DotReluDot_3: {\n",
       "        Dense_0: {\n",
       "            kernel: NamedSharding(mesh={'data': 2, 'model': 4}, spec=PartitionSpec(None, 'model')),\n",
       "        },\n",
       "        W2: NamedSharding(mesh={'data': 2, 'model': 4}, spec=PartitionSpec('model', None)),\n",
       "    },\n",
       "})), EmptyState()))"
      ]
     },
     "execution_count": 48,
     "metadata": {},
     "output_type": "execute_result"
    }
   ],
   "source": [
    "# Create an abstract closure to wrap the function before feeding it in\n",
    "# because `jax.eval_shape` only takes pytrees as arguments.\n",
    "abstract_variables = jax.eval_shape(\n",
    "    functools.partial(init_fn, model=model, optimizer=optimizer), k, x)\n",
    "\n",
    "# This `state_sharding` has the same pytree structure as `state`, the output\n",
    "# of the `init_fn`.\n",
    "state_sharding = nn.get_sharding(abstract_variables, mesh)\n",
    "state_sharding"
   ]
  },
  {
   "cell_type": "markdown",
   "metadata": {
    "id": "2ec24614050b"
   },
   "source": [
    "## Compile the code\n",
    "\n",
    "Now you can apply [`jax.jit`](https://jax.readthedocs.io/en/latest/jax-101/02-jitting.html) to your `init_fn`, but with two extra arguments: `in_shardings` and `out_shardings`.\n",
    "\n",
    "Run it to get the `initialized_state`, in which parameters are sharded exactly as instructed:"
   ]
  },
  {
   "cell_type": "code",
   "execution_count": 49,
   "metadata": {
    "id": "5b6e699df733"
   },
   "outputs": [
    {
     "data": {
      "text/html": [
       "<pre style=\"white-space:pre;overflow-x:auto;line-height:normal;font-family:Menlo,'DejaVu Sans Mono',consolas,'Courier New',monospace\">┌───────┬───────┬───────┬───────┐\n",
       "│       │       │       │       │\n",
       "│       │       │       │       │\n",
       "│       │       │       │       │\n",
       "│       │       │       │       │\n",
       "│CPU <span style=\"color: #008080; text-decoration-color: #008080; font-weight: bold\">0</span>,<span style=\"color: #008080; text-decoration-color: #008080; font-weight: bold\">4</span>│CPU <span style=\"color: #008080; text-decoration-color: #008080; font-weight: bold\">1</span>,<span style=\"color: #008080; text-decoration-color: #008080; font-weight: bold\">5</span>│CPU <span style=\"color: #008080; text-decoration-color: #008080; font-weight: bold\">2</span>,<span style=\"color: #008080; text-decoration-color: #008080; font-weight: bold\">6</span>│CPU <span style=\"color: #008080; text-decoration-color: #008080; font-weight: bold\">3</span>,<span style=\"color: #008080; text-decoration-color: #008080; font-weight: bold\">7</span>│\n",
       "│       │       │       │       │\n",
       "│       │       │       │       │\n",
       "│       │       │       │       │\n",
       "│       │       │       │       │\n",
       "└───────┴───────┴───────┴───────┘\n",
       "</pre>\n"
      ],
      "text/plain": [
       "┌───────┬───────┬───────┬───────┐\n",
       "│       │       │       │       │\n",
       "│       │       │       │       │\n",
       "│       │       │       │       │\n",
       "│       │       │       │       │\n",
       "│CPU \u001b[1;36m0\u001b[0m,\u001b[1;36m4\u001b[0m│CPU \u001b[1;36m1\u001b[0m,\u001b[1;36m5\u001b[0m│CPU \u001b[1;36m2\u001b[0m,\u001b[1;36m6\u001b[0m│CPU \u001b[1;36m3\u001b[0m,\u001b[1;36m7\u001b[0m│\n",
       "│       │       │       │       │\n",
       "│       │       │       │       │\n",
       "│       │       │       │       │\n",
       "│       │       │       │       │\n",
       "└───────┴───────┴───────┴───────┘\n"
      ]
     },
     "metadata": {},
     "output_type": "display_data"
    },
    {
     "data": {
      "text/html": [
       "<pre style=\"white-space:pre;overflow-x:auto;line-height:normal;font-family:Menlo,'DejaVu Sans Mono',consolas,'Courier New',monospace\">┌───────────────────────┐\n",
       "│        CPU <span style=\"color: #008080; text-decoration-color: #008080; font-weight: bold\">0</span>,<span style=\"color: #008080; text-decoration-color: #008080; font-weight: bold\">4</span>        │\n",
       "├───────────────────────┤\n",
       "│        CPU <span style=\"color: #008080; text-decoration-color: #008080; font-weight: bold\">1</span>,<span style=\"color: #008080; text-decoration-color: #008080; font-weight: bold\">5</span>        │\n",
       "├───────────────────────┤\n",
       "│        CPU <span style=\"color: #008080; text-decoration-color: #008080; font-weight: bold\">2</span>,<span style=\"color: #008080; text-decoration-color: #008080; font-weight: bold\">6</span>        │\n",
       "├───────────────────────┤\n",
       "│        CPU <span style=\"color: #008080; text-decoration-color: #008080; font-weight: bold\">3</span>,<span style=\"color: #008080; text-decoration-color: #008080; font-weight: bold\">7</span>        │\n",
       "└───────────────────────┘\n",
       "</pre>\n"
      ],
      "text/plain": [
       "┌───────────────────────┐\n",
       "│        CPU \u001b[1;36m0\u001b[0m,\u001b[1;36m4\u001b[0m        │\n",
       "├───────────────────────┤\n",
       "│        CPU \u001b[1;36m1\u001b[0m,\u001b[1;36m5\u001b[0m        │\n",
       "├───────────────────────┤\n",
       "│        CPU \u001b[1;36m2\u001b[0m,\u001b[1;36m6\u001b[0m        │\n",
       "├───────────────────────┤\n",
       "│        CPU \u001b[1;36m3\u001b[0m,\u001b[1;36m7\u001b[0m        │\n",
       "└───────────────────────┘\n"
      ]
     },
     "metadata": {},
     "output_type": "display_data"
    }
   ],
   "source": [
    "jit_init_fn = jax.jit(init_fn, static_argnums=(2, 3),\n",
    "                      in_shardings=(mesh_sharding(None), x_sharding),  # PRNG key and x\n",
    "                      out_shardings=state_sharding)\n",
    "\n",
    "initialized_state = jit_init_fn(k, x, model, optimizer)\n",
    "\n",
    "# for weight, partitioned in initialized_state.params['DotReluDot_0'].items():\n",
    "#     print(f'Sharding of {weight}: {partitioned.names}')\n",
    "jax.debug.visualize_array_sharding(initialized_state.params['DotReluDot_0']['Dense_0']['kernel'].value)\n",
    "jax.debug.visualize_array_sharding(initialized_state.params['DotReluDot_0']['W2'].value)"
   ]
  },
  {
   "cell_type": "markdown",
   "metadata": {
    "id": "8f74b009f11f"
   },
   "source": [
    "## Inspect the Module output\n",
    "\n",
    "Note that in the output of `initialized_state`, the `params` `W1` and `W2` are of type [`flax.linen.Partitioned`](https://flax.readthedocs.io/en/latest/api_reference/_autosummary/flax.linen.Partitioned.html). This is a wrapper around the actual `jax.Array` that allows Flax to record the axis names associated with it. \n",
    "\n",
    "You can access the raw `jax.Array` by adding `.value` when outside `jit`, or by `.unbox()` when inside."
   ]
  },
  {
   "cell_type": "code",
   "execution_count": 14,
   "metadata": {
    "id": "19243982c892"
   },
   "outputs": [
    {
     "name": "stdout",
     "output_type": "stream",
     "text": [
      "<class 'flax.core.meta.Partitioned'>\n",
      "<class 'jaxlib.xla_extension.ArrayImpl'>\n",
      "(None, 'model')\n",
      "(1024, 1024)\n"
     ]
    }
   ],
   "source": [
    "print(type(initialized_state.params['DotReluDot_0']['Dense_0']['kernel']))\n",
    "print(type(initialized_state.params['DotReluDot_0']['Dense_0']['kernel'].value))\n",
    "print(initialized_state.params['DotReluDot_0']['Dense_0']['kernel'].names)\n",
    "print(initialized_state.params['DotReluDot_0']['Dense_0']['kernel'].value.shape)"
   ]
  },
  {
   "cell_type": "markdown",
   "metadata": {
    "id": "2beee7d27bdb"
   },
   "source": [
    "You can also check the underlying [`jax.sharding`](https://jax.readthedocs.io/en/latest/jax.sharding.html) of each parameter, which is now more internal than `NamedSharding`. Note that numbers like `initialized_state.step` are replicated across all devices."
   ]
  },
  {
   "cell_type": "code",
   "execution_count": 15,
   "metadata": {
    "id": "2067c419a826"
   },
   "outputs": [
    {
     "data": {
      "text/plain": [
       "GSPMDSharding({devices=[1,4,2]0,4,1,5,2,6,3,7 last_tile_dim_replicate})"
      ]
     },
     "execution_count": 15,
     "metadata": {},
     "output_type": "execute_result"
    }
   ],
   "source": [
    "initialized_state.params['DotReluDot_0']['Dense_0']['kernel'].value.sharding"
   ]
  },
  {
   "cell_type": "code",
   "execution_count": 16,
   "metadata": {
    "id": "d7cf0baa334b"
   },
   "outputs": [
    {
     "name": "stdout",
     "output_type": "stream",
     "text": [
      "0\n"
     ]
    },
    {
     "data": {
      "text/plain": [
       "GSPMDSharding({replicated})"
      ]
     },
     "execution_count": 16,
     "metadata": {},
     "output_type": "execute_result"
    }
   ],
   "source": [
    "print(initialized_state.step)\n",
    "initialized_state.step.sharding"
   ]
  },
  {
   "cell_type": "markdown",
   "metadata": {
    "id": "273547d3ab89"
   },
   "source": [
    "You can use [`jax.tree_map`](https://jax.readthedocs.io/en/latest/_autosummary/jax.tree_util.tree_map.html) to perform mass computation on a dict of boxed params, in the same way as on a dict of JAX arrays."
   ]
  },
  {
   "cell_type": "code",
   "execution_count": 17,
   "metadata": {
    "id": "29b3dae156a2"
   },
   "outputs": [
    {
     "name": "stdout",
     "output_type": "stream",
     "text": [
      "FrozenDict({\n",
      "    Dense_0: {\n",
      "        kernel: Partitioned(value=(1024, 1024), names=('model', None), mesh=None),\n",
      "    },\n",
      "    W1: Partitioned(value=(1024, 1024), names=(None, 'model'), mesh=None),\n",
      "})\n",
      "<class 'jaxlib.xla_extension.ArrayImpl'>\n",
      "(1024, 1024)\n"
     ]
    }
   ],
   "source": [
    "diff = jax.tree_map(\n",
    "    lambda a, b: a - b, \n",
    "    initialized_state.params['DotReluDot_0'], initialized_state.params['DotReluDot_0'])\n",
    "print(jax.tree_map(jnp.shape, diff))\n",
    "diff_array = diff['Dense_0']['kernel'].value\n",
    "print(type(diff_array))\n",
    "print(diff_array.shape)"
   ]
  },
  {
   "attachments": {},
   "cell_type": "markdown",
   "metadata": {
    "id": "f7e1ccb14c6b"
   },
   "source": [
    "## Compile the train step and inference \n",
    "\n",
    "Create a `jit`ted training step as follows:"
   ]
  },
  {
   "cell_type": "code",
   "execution_count": 18,
   "metadata": {
    "id": "4e3cc300cfee"
   },
   "outputs": [],
   "source": [
    "@functools.partial(jax.jit, in_shardings=(state_sharding, x_sharding), \n",
    "                   out_shardings=state_sharding)\n",
    "def train_step(state, x):\n",
    "  # A fake loss function.\n",
    "  def loss_unrolled(params):\n",
    "    y = model.apply({'params': params}, x)\n",
    "    return y.sum()\n",
    "  grad_fn = jax.grad(loss_unrolled)\n",
    "  grads = grad_fn(state.params)\n",
    "  state = state.apply_gradients(grads=grads)\n",
    "  return state\n",
    "\n",
    "with mesh:\n",
    "  new_state = train_step(initialized_state, x)"
   ]
  },
  {
   "cell_type": "code",
   "execution_count": 19,
   "metadata": {
    "id": "91c6c2662c12"
   },
   "outputs": [
    {
     "name": "stdout",
     "output_type": "stream",
     "text": [
      "Sharding of Weight 1:\n"
     ]
    },
    {
     "data": {
      "text/html": [
       "<pre style=\"white-space:pre;overflow-x:auto;line-height:normal;font-family:Menlo,'DejaVu Sans Mono',consolas,'Courier New',monospace\">┌───────┬───────┬───────┬───────┐\n",
       "│       │       │       │       │\n",
       "│       │       │       │       │\n",
       "│       │       │       │       │\n",
       "│       │       │       │       │\n",
       "│CPU <span style=\"color: #008080; text-decoration-color: #008080; font-weight: bold\">0</span>,<span style=\"color: #008080; text-decoration-color: #008080; font-weight: bold\">4</span>│CPU <span style=\"color: #008080; text-decoration-color: #008080; font-weight: bold\">1</span>,<span style=\"color: #008080; text-decoration-color: #008080; font-weight: bold\">5</span>│CPU <span style=\"color: #008080; text-decoration-color: #008080; font-weight: bold\">2</span>,<span style=\"color: #008080; text-decoration-color: #008080; font-weight: bold\">6</span>│CPU <span style=\"color: #008080; text-decoration-color: #008080; font-weight: bold\">3</span>,<span style=\"color: #008080; text-decoration-color: #008080; font-weight: bold\">7</span>│\n",
       "│       │       │       │       │\n",
       "│       │       │       │       │\n",
       "│       │       │       │       │\n",
       "│       │       │       │       │\n",
       "└───────┴───────┴───────┴───────┘\n",
       "</pre>\n"
      ],
      "text/plain": [
       "┌───────┬───────┬───────┬───────┐\n",
       "│       │       │       │       │\n",
       "│       │       │       │       │\n",
       "│       │       │       │       │\n",
       "│       │       │       │       │\n",
       "│CPU \u001b[1;36m0\u001b[0m,\u001b[1;36m4\u001b[0m│CPU \u001b[1;36m1\u001b[0m,\u001b[1;36m5\u001b[0m│CPU \u001b[1;36m2\u001b[0m,\u001b[1;36m6\u001b[0m│CPU \u001b[1;36m3\u001b[0m,\u001b[1;36m7\u001b[0m│\n",
       "│       │       │       │       │\n",
       "│       │       │       │       │\n",
       "│       │       │       │       │\n",
       "│       │       │       │       │\n",
       "└───────┴───────┴───────┴───────┘\n"
      ]
     },
     "metadata": {},
     "output_type": "display_data"
    },
    {
     "name": "stdout",
     "output_type": "stream",
     "text": [
      "Sharding of Weight 2:\n"
     ]
    },
    {
     "data": {
      "text/html": [
       "<pre style=\"white-space:pre;overflow-x:auto;line-height:normal;font-family:Menlo,'DejaVu Sans Mono',consolas,'Courier New',monospace\">┌───────────────────────┐\n",
       "│        CPU <span style=\"color: #008080; text-decoration-color: #008080; font-weight: bold\">0</span>,<span style=\"color: #008080; text-decoration-color: #008080; font-weight: bold\">4</span>        │\n",
       "├───────────────────────┤\n",
       "│        CPU <span style=\"color: #008080; text-decoration-color: #008080; font-weight: bold\">1</span>,<span style=\"color: #008080; text-decoration-color: #008080; font-weight: bold\">5</span>        │\n",
       "├───────────────────────┤\n",
       "│        CPU <span style=\"color: #008080; text-decoration-color: #008080; font-weight: bold\">2</span>,<span style=\"color: #008080; text-decoration-color: #008080; font-weight: bold\">6</span>        │\n",
       "├───────────────────────┤\n",
       "│        CPU <span style=\"color: #008080; text-decoration-color: #008080; font-weight: bold\">3</span>,<span style=\"color: #008080; text-decoration-color: #008080; font-weight: bold\">7</span>        │\n",
       "└───────────────────────┘\n",
       "</pre>\n"
      ],
      "text/plain": [
       "┌───────────────────────┐\n",
       "│        CPU \u001b[1;36m0\u001b[0m,\u001b[1;36m4\u001b[0m        │\n",
       "├───────────────────────┤\n",
       "│        CPU \u001b[1;36m1\u001b[0m,\u001b[1;36m5\u001b[0m        │\n",
       "├───────────────────────┤\n",
       "│        CPU \u001b[1;36m2\u001b[0m,\u001b[1;36m6\u001b[0m        │\n",
       "├───────────────────────┤\n",
       "│        CPU \u001b[1;36m3\u001b[0m,\u001b[1;36m7\u001b[0m        │\n",
       "└───────────────────────┘\n"
      ]
     },
     "metadata": {},
     "output_type": "display_data"
    }
   ],
   "source": [
    "print(f'Sharding of Weight 1:')\n",
    "jax.debug.visualize_array_sharding(initialized_state.params['DotReluDot_0']['Dense_0']['kernel'].value)\n",
    "print(f'Sharding of Weight 2:')\n",
    "jax.debug.visualize_array_sharding(initialized_state.params['DotReluDot_0']['W2'].value)"
   ]
  },
  {
   "attachments": {},
   "cell_type": "markdown",
   "metadata": {
    "id": "2bae79e2e71b"
   },
   "source": [
    "Then, create a compiled inference step. Note that the output is also sharded along `(data, None)`."
   ]
  },
  {
   "cell_type": "code",
   "execution_count": 20,
   "metadata": {
    "id": "c9264a48b9ee"
   },
   "outputs": [
    {
     "name": "stdout",
     "output_type": "stream",
     "text": [
      "<class 'jaxlib.xla_extension.ArrayImpl'>\n",
      "float32\n",
      "(8, 1024)\n"
     ]
    },
    {
     "data": {
      "text/html": [
       "<pre style=\"white-space:pre;overflow-x:auto;line-height:normal;font-family:Menlo,'DejaVu Sans Mono',consolas,'Courier New',monospace\">┌──────────────────────────────────────────────────────────────────────────────┐\n",
       "│                                                                              │\n",
       "│                                 CPU <span style=\"color: #008080; text-decoration-color: #008080; font-weight: bold\">0</span>,<span style=\"color: #008080; text-decoration-color: #008080; font-weight: bold\">1</span>,<span style=\"color: #008080; text-decoration-color: #008080; font-weight: bold\">2</span>,<span style=\"color: #008080; text-decoration-color: #008080; font-weight: bold\">3</span>                                  │\n",
       "│                                                                              │\n",
       "│                                                                              │\n",
       "├──────────────────────────────────────────────────────────────────────────────┤\n",
       "│                                                                              │\n",
       "│                                 CPU <span style=\"color: #008080; text-decoration-color: #008080; font-weight: bold\">4</span>,<span style=\"color: #008080; text-decoration-color: #008080; font-weight: bold\">5</span>,<span style=\"color: #008080; text-decoration-color: #008080; font-weight: bold\">6</span>,<span style=\"color: #008080; text-decoration-color: #008080; font-weight: bold\">7</span>                                  │\n",
       "│                                                                              │\n",
       "│                                                                              │\n",
       "└──────────────────────────────────────────────────────────────────────────────┘\n",
       "</pre>\n"
      ],
      "text/plain": [
       "┌──────────────────────────────────────────────────────────────────────────────┐\n",
       "│                                                                              │\n",
       "│                                 CPU \u001b[1;36m0\u001b[0m,\u001b[1;36m1\u001b[0m,\u001b[1;36m2\u001b[0m,\u001b[1;36m3\u001b[0m                                  │\n",
       "│                                                                              │\n",
       "│                                                                              │\n",
       "├──────────────────────────────────────────────────────────────────────────────┤\n",
       "│                                                                              │\n",
       "│                                 CPU \u001b[1;36m4\u001b[0m,\u001b[1;36m5\u001b[0m,\u001b[1;36m6\u001b[0m,\u001b[1;36m7\u001b[0m                                  │\n",
       "│                                                                              │\n",
       "│                                                                              │\n",
       "└──────────────────────────────────────────────────────────────────────────────┘\n"
      ]
     },
     "metadata": {},
     "output_type": "display_data"
    }
   ],
   "source": [
    "@functools.partial(jax.jit, in_shardings=(state_sharding, x_sharding), \n",
    "                   out_shardings=x_sharding)\n",
    "def apply_fn(state, x):\n",
    "  return state.apply_fn({'params': state.params}, x)\n",
    "\n",
    "with mesh:\n",
    "  y = apply_fn(new_state, x)\n",
    "print(type(y))\n",
    "print(y.dtype)\n",
    "print(y.shape)\n",
    "jax.debug.visualize_array_sharding(y)"
   ]
  },
  {
   "cell_type": "markdown",
   "metadata": {
    "id": "7daa9e6e6eb4"
   },
   "source": [
    "## Profiling\n",
    "\n",
    "If you are running on a TPU pod or a pod slice, you can use a custom `block_all` utility function, as defined below, to measure the performance:"
   ]
  },
  {
   "cell_type": "code",
   "execution_count": 21,
   "metadata": {
    "id": "a68d7cb2eb89"
   },
   "outputs": [
    {
     "name": "stdout",
     "output_type": "stream",
     "text": [
      "132 ms ± 6.21 ms per loop (mean ± std. dev. of 7 runs, 10 loops each)\n"
     ]
    }
   ],
   "source": [
    "%%timeit\n",
    "\n",
    "def block_all(xs):\n",
    "  jax.tree_map(lambda x: x.block_until_ready(), xs)\n",
    "  return xs\n",
    "\n",
    "with mesh:\n",
    "  new_state = block_all(train_step(initialized_state, x))"
   ]
  },
  {
   "attachments": {},
   "cell_type": "markdown",
   "metadata": {
    "id": "51420b514d53"
   },
   "source": [
    "## Logical axis annotation\n",
    "\n",
    "JAX's automatic SPMD encourages users to explore different sharding layouts to find the optimal one. To this end, in Flax you actually can annotate the dimensions of any data with more descriptive axis names (not just device mesh axis names like `'data'` and `'model'`). \n",
    "\n",
    "The `LogicalDotReluDot` and `LogicalMLP` Module definition below are similar to the Modules you created earlier, except for the following:\n",
    "\n",
    "1. All axes are annotated with more concrete, meaningful names, such as `'embed'`, `'hidden'`, `'batch'` and `'layer'`. These names are referred to as _logical axis names_ in Flax. They make the dimensional changes inside model definitions more readable.\n",
    "\n",
    "2. [`flax.linen.with_logical_partitioning`](https://flax.readthedocs.io/en/latest/api_reference/_autosummary/flax.linen.with_logical_partitioning.html) replaces `flax.linen.with_partitioning`; and [`flax.linen.with_logical_constraint`](https://flax.readthedocs.io/en/latest/api_reference/_autosummary/flax.linen.with_logical_constraint.html#flax-linen-with-logical-constraint) replaces `jax.lax.with_sharding_constraint`, to recognize the logical axis names."
   ]
  },
  {
   "cell_type": "code",
   "execution_count": 50,
   "metadata": {
    "id": "a26f85a9e772"
   },
   "outputs": [],
   "source": [
    "class LogicalDotReluDot(nn.Module):\n",
    "  depth: int\n",
    "  dense_init: Callable = nn.initializers.xavier_normal()\n",
    "  @nn.compact\n",
    "  def __call__(self, x):    \n",
    "    y = nn.Dense(self.depth, \n",
    "                 kernel_init=nn.with_logical_partitioning(self.dense_init, ('embed', 'hidden')),\n",
    "                 use_bias=False,  # or overwrite with `bias_init`\n",
    "                 )(x)\n",
    "\n",
    "    y = jax.nn.relu(y)\n",
    "    # Force a local sharding annotation.\n",
    "    y = with_sharding_constraint(y, mesh_sharding(PartitionSpec('data', 'model')))\n",
    "\n",
    "    W2 = self.param(\n",
    "        'W2', \n",
    "        nn.with_logical_partitioning(self.dense_init, ('hidden', 'embed')),\n",
    "        (self.depth, x.shape[-1]))\n",
    "\n",
    "    z = jnp.dot(y, W2)\n",
    "    # Force a local sharding annotation.\n",
    "    z = nn.with_logical_constraint(z, ('batch', 'embed'))\n",
    "    return z, None\n",
    "\n",
    "class LogicalMLP(nn.Module):\n",
    "  num_layers: int\n",
    "  depth: int\n",
    "  use_scan: bool\n",
    "  @nn.compact\n",
    "  def __call__(self, x):\n",
    "    if self.use_scan:\n",
    "      x, _ = nn.scan(LogicalDotReluDot, length=self.num_layers, \n",
    "                    variable_axes={\"params\": 0},\n",
    "                    split_rngs={\"params\": True},\n",
    "                    metadata_params={nn.PARTITION_NAME: 'layer'}\n",
    "                    )(self.depth)(x)\n",
    "    else:\n",
    "      for i in range(self.num_layers):\n",
    "        x, _ = LogicalDotReluDot(self.depth)(x)\n",
    "    return x"
   ]
  },
  {
   "attachments": {},
   "cell_type": "markdown",
   "metadata": {
    "id": "0de93ec6cbd6"
   },
   "source": [
    "Now, initiate a model and try to figure out what sharding its `state` should have.\n",
    "\n",
    "To allow the device mesh to take your model correctly, you need to decide which of these logical axis names are mapped to the device axis `'data'` or `'model'`. This rule is a list of (`logical_axis_name`, `device_axis_name`) tuples, and [`flax.linen.logical_to_mesh_sharding`](https://flax.readthedocs.io/en/latest/api_reference/_autosummary/flax.linen.logical_to_mesh_sharding.html#flax-linen-logical-to-mesh-sharding) will convert them to the kind of sharding that the device mesh can understand.\n",
    "\n",
    "This allows you to change the rules and try out new partition layouts without modifying the model definition."
   ]
  },
  {
   "cell_type": "code",
   "execution_count": 51,
   "metadata": {
    "id": "14db7a1e30fd"
   },
   "outputs": [
    {
     "name": "stdout",
     "output_type": "stream",
     "text": [
      "annotations are logical, not mesh-specific:  PartitionSpec('embed', 'hidden')\n",
      "sharding annotations are mesh-specific:  PartitionSpec(None, 'model')\n"
     ]
    }
   ],
   "source": [
    "# Unspecified rule means unsharded by default, so no need to specify `('embed', None)` and `('layer', None)`.\n",
    "rules = (('batch', 'data'),\n",
    "         ('hidden', 'model'))\n",
    "\n",
    "logical_model = LogicalMLP(LAYERS, DEPTH, USE_SCAN)\n",
    "\n",
    "logical_abstract_variables = jax.eval_shape(\n",
    "    functools.partial(init_fn, model=logical_model, optimizer=optimizer), k, x)\n",
    "logical_state_spec = nn.get_partition_spec(logical_abstract_variables)\n",
    "print('annotations are logical, not mesh-specific: ', \n",
    "      logical_state_spec.params['LogicalDotReluDot_0']['Dense_0']['kernel'])\n",
    "\n",
    "logical_state_sharding = nn.logical_to_mesh_sharding(logical_state_spec, mesh, rules)\n",
    "print('sharding annotations are mesh-specific: ', \n",
    "      logical_state_sharding.params['LogicalDotReluDot_0']['Dense_0']['kernel'].spec)"
   ]
  },
  {
   "attachments": {},
   "cell_type": "markdown",
   "metadata": {
    "id": "58475fffb2de"
   },
   "source": [
    "You can verify that the `logical_state_spec` here has the same content as `state_spec` in the previous (\"non-logical\") example. This allows you to `jax.jit` your Module's [`flax.linen.Module.init`](https://flax.readthedocs.io/en/latest/api_reference/flax.linen/module.html#flax.linen.Module.init) and [`flax.linen.Module.apply`](https://flax.readthedocs.io/en/latest/api_reference/flax.linen/module.html#flax.linen.Module.apply) the same way in the above above."
   ]
  },
  {
   "cell_type": "code",
   "execution_count": 52,
   "metadata": {
    "id": "589ff774bb4c"
   },
   "outputs": [
    {
     "data": {
      "text/plain": [
       "True"
      ]
     },
     "execution_count": 52,
     "metadata": {},
     "output_type": "execute_result"
    }
   ],
   "source": [
    "state_sharding.params['DotReluDot_0'] == logical_state_sharding.params['LogicalDotReluDot_0']"
   ]
  },
  {
   "cell_type": "code",
   "execution_count": 53,
   "metadata": {
    "id": "77e07a0ab309"
   },
   "outputs": [],
   "source": [
    "logical_jit_init_fn = jax.jit(init_fn, static_argnums=(2, 3),\n",
    "                      in_shardings=(mesh_sharding(None), x_sharding),  # PRNG key and x\n",
    "                      out_shardings=logical_state_sharding)\n",
    "\n",
    "logical_initialized_state = logical_jit_init_fn(k, x, logical_model, optimizer)"
   ]
  },
  {
   "cell_type": "code",
   "execution_count": 54,
   "metadata": {
    "id": "fb53bc20e0f9"
   },
   "outputs": [
    {
     "name": "stdout",
     "output_type": "stream",
     "text": [
      "Sharding of Weight 1:\n"
     ]
    },
    {
     "data": {
      "text/html": [
       "<pre style=\"white-space:pre;overflow-x:auto;line-height:normal;font-family:Menlo,'DejaVu Sans Mono',consolas,'Courier New',monospace\">┌───────┬───────┬───────┬───────┐\n",
       "│       │       │       │       │\n",
       "│       │       │       │       │\n",
       "│       │       │       │       │\n",
       "│       │       │       │       │\n",
       "│CPU <span style=\"color: #008080; text-decoration-color: #008080; font-weight: bold\">0</span>,<span style=\"color: #008080; text-decoration-color: #008080; font-weight: bold\">4</span>│CPU <span style=\"color: #008080; text-decoration-color: #008080; font-weight: bold\">1</span>,<span style=\"color: #008080; text-decoration-color: #008080; font-weight: bold\">5</span>│CPU <span style=\"color: #008080; text-decoration-color: #008080; font-weight: bold\">2</span>,<span style=\"color: #008080; text-decoration-color: #008080; font-weight: bold\">6</span>│CPU <span style=\"color: #008080; text-decoration-color: #008080; font-weight: bold\">3</span>,<span style=\"color: #008080; text-decoration-color: #008080; font-weight: bold\">7</span>│\n",
       "│       │       │       │       │\n",
       "│       │       │       │       │\n",
       "│       │       │       │       │\n",
       "│       │       │       │       │\n",
       "└───────┴───────┴───────┴───────┘\n",
       "</pre>\n"
      ],
      "text/plain": [
       "┌───────┬───────┬───────┬───────┐\n",
       "│       │       │       │       │\n",
       "│       │       │       │       │\n",
       "│       │       │       │       │\n",
       "│       │       │       │       │\n",
       "│CPU \u001b[1;36m0\u001b[0m,\u001b[1;36m4\u001b[0m│CPU \u001b[1;36m1\u001b[0m,\u001b[1;36m5\u001b[0m│CPU \u001b[1;36m2\u001b[0m,\u001b[1;36m6\u001b[0m│CPU \u001b[1;36m3\u001b[0m,\u001b[1;36m7\u001b[0m│\n",
       "│       │       │       │       │\n",
       "│       │       │       │       │\n",
       "│       │       │       │       │\n",
       "│       │       │       │       │\n",
       "└───────┴───────┴───────┴───────┘\n"
      ]
     },
     "metadata": {},
     "output_type": "display_data"
    },
    {
     "name": "stdout",
     "output_type": "stream",
     "text": [
      "Sharding of Weight 2:\n"
     ]
    },
    {
     "data": {
      "text/html": [
       "<pre style=\"white-space:pre;overflow-x:auto;line-height:normal;font-family:Menlo,'DejaVu Sans Mono',consolas,'Courier New',monospace\">┌───────────────────────┐\n",
       "│        CPU <span style=\"color: #008080; text-decoration-color: #008080; font-weight: bold\">0</span>,<span style=\"color: #008080; text-decoration-color: #008080; font-weight: bold\">4</span>        │\n",
       "├───────────────────────┤\n",
       "│        CPU <span style=\"color: #008080; text-decoration-color: #008080; font-weight: bold\">1</span>,<span style=\"color: #008080; text-decoration-color: #008080; font-weight: bold\">5</span>        │\n",
       "├───────────────────────┤\n",
       "│        CPU <span style=\"color: #008080; text-decoration-color: #008080; font-weight: bold\">2</span>,<span style=\"color: #008080; text-decoration-color: #008080; font-weight: bold\">6</span>        │\n",
       "├───────────────────────┤\n",
       "│        CPU <span style=\"color: #008080; text-decoration-color: #008080; font-weight: bold\">3</span>,<span style=\"color: #008080; text-decoration-color: #008080; font-weight: bold\">7</span>        │\n",
       "└───────────────────────┘\n",
       "</pre>\n"
      ],
      "text/plain": [
       "┌───────────────────────┐\n",
       "│        CPU \u001b[1;36m0\u001b[0m,\u001b[1;36m4\u001b[0m        │\n",
       "├───────────────────────┤\n",
       "│        CPU \u001b[1;36m1\u001b[0m,\u001b[1;36m5\u001b[0m        │\n",
       "├───────────────────────┤\n",
       "│        CPU \u001b[1;36m2\u001b[0m,\u001b[1;36m6\u001b[0m        │\n",
       "├───────────────────────┤\n",
       "│        CPU \u001b[1;36m3\u001b[0m,\u001b[1;36m7\u001b[0m        │\n",
       "└───────────────────────┘\n"
      ]
     },
     "metadata": {},
     "output_type": "display_data"
    }
   ],
   "source": [
    "print(f'Sharding of Weight 1:')\n",
    "jax.debug.visualize_array_sharding(logical_initialized_state.params['LogicalDotReluDot_0']['Dense_0']['kernel'].value)\n",
    "print(f'Sharding of Weight 2:')\n",
    "jax.debug.visualize_array_sharding(logical_initialized_state.params['LogicalDotReluDot_0']['W2'].value)"
   ]
  },
  {
   "attachments": {},
   "cell_type": "markdown",
   "metadata": {
    "id": "ae1754a3031d"
   },
   "source": [
    "## When to use device axis / logical axis\n",
    "\n",
    "Choosing when to use a device or logical axis depends on how much you want to control the partitioning of your model:\n",
    "\n",
    "* **Device mesh axis**: If you want a very simple model, or you are very confident of your way of partitioning, defining it with __device mesh axis__ can potentially save you a few extra lines of code of converting the logical naming back to the device naming.\n",
    "\n",
    "* **logical naming**: On the other hand, the __logical naming__ helpers can be useful for exploring different sharding layouts. Use this if you want to experiment around and find the most optimal partition layout for your model.\n",
    "\n",
    "* **Device axis names**: In really advanced use cases, you may have more complicated sharding patterns that require annotating *activation* dimension names differently from *parameter* dimension names. If you wish to have more fine-grained control on manual mesh assignments, directly using __device axis names__ could be more helpful."
   ]
  },
  {
   "attachments": {},
   "cell_type": "markdown",
   "metadata": {
    "id": "576bdd5cd782"
   },
   "source": [
    "## Save the data\n",
    "\n",
    "To save the cross-device array, you can use [`flax.training.checkpoints`](https://flax.readthedocs.io/en/latest/_modules/flax/training/checkpoints.html), as shown in the [Save and load checkpoints guide - Multi-host/multi-process checkpointing](https://flax.readthedocs.io/en/latest/guides/use_checkpointing.html#multi-host-multi-process-checkpointing). This is especially required if you are running on a multi-host environment (for example, a TPU pod).\n",
    "\n",
    "Keep in mind that to restore the arrays to the desired partition, you need to provide a sample `target` pytree that has the same structure and has the desired [`jax.sharding.Sharding`](https://jax.readthedocs.io/en/latest/jax.sharding.html#jax.sharding.Sharding) in place for each JAX array. The sharding you use to restore the array doesn't necessarily need to be the same as the ones you used to store the array."
   ]
  }
 ],
 "metadata": {
  "jupytext": {
   "formats": "ipynb,md:myst"
  },
  "language_info": {
   "name": "python",
   "version": "3.9.6"
  }
 },
 "nbformat": 4,
 "nbformat_minor": 0
}
